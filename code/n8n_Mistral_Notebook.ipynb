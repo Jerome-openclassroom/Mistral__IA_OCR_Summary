{
 "cells": [
  {
   "cell_type": "code",
   "execution_count": 1,
   "id": "539fb1da-231a-4505-a336-9d6a5cf9a50e",
   "metadata": {},
   "outputs": [
    {
     "name": "stdout",
     "output_type": "stream",
     "text": [
      "200\n",
      "{\"message\":\"Workflow was started\"}\n"
     ]
    }
   ],
   "source": [
    "import requests\n",
    "\n",
    "# Chemin de ton image locale\n",
    "image_path = \"Mistral_OCR/Real_Test.png\"  # ou .png\n",
    "\n",
    "# URL de ton webhook n8n\n",
    "webhook_url = \"https://jeromex1.app.n8n.cloud/webhook-test/3b3d7051-98ce-4aa9-b96e-3309852969da\"\n",
    "\n",
    "# Fichier à envoyer comme multipart\n",
    "files = {\n",
    "    \"data\": (\"image.jpg\", open(image_path, \"rb\"), \"image/jpeg\")\n",
    "}\n",
    "\n",
    "# Envoi du POST\n",
    "response = requests.post(webhook_url, files=files)\n",
    "\n",
    "# Résultat\n",
    "print(response.status_code)\n",
    "print(response.text)\n",
    "\n"
   ]
  },
  {
   "cell_type": "code",
   "execution_count": null,
   "id": "a0aa593a-80c8-4880-8cb9-c5ba3c883e71",
   "metadata": {},
   "outputs": [],
   "source": []
  }
 ],
 "metadata": {
  "kernelspec": {
   "display_name": "Python 3 (ipykernel)",
   "language": "python",
   "name": "python3"
  },
  "language_info": {
   "codemirror_mode": {
    "name": "ipython",
    "version": 3
   },
   "file_extension": ".py",
   "mimetype": "text/x-python",
   "name": "python",
   "nbconvert_exporter": "python",
   "pygments_lexer": "ipython3",
   "version": "3.12.7"
  }
 },
 "nbformat": 4,
 "nbformat_minor": 5
}
